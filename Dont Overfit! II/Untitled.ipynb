{
 "cells": [
  {
   "cell_type": "code",
   "execution_count": 117,
   "metadata": {},
   "outputs": [
    {
     "data": {
      "text/html": [
       "        <script type=\"text/javascript\">\n",
       "        window.PlotlyConfig = {MathJaxConfig: 'local'};\n",
       "        if (window.MathJax) {MathJax.Hub.Config({SVG: {font: \"STIX-Web\"}});}\n",
       "        if (typeof require !== 'undefined') {\n",
       "        require.undef(\"plotly\");\n",
       "        requirejs.config({\n",
       "            paths: {\n",
       "                'plotly': ['https://cdn.plot.ly/plotly-latest.min']\n",
       "            }\n",
       "        });\n",
       "        require(['plotly'], function(Plotly) {\n",
       "            window._Plotly = Plotly;\n",
       "        });\n",
       "        }\n",
       "        </script>\n",
       "        "
      ]
     },
     "metadata": {},
     "output_type": "display_data"
    }
   ],
   "source": [
    "# Loading libraries\n",
    "import warnings\n",
    "warnings.filterwarnings('ignore')\n",
    "import pandas as pd\n",
    "import numpy as np\n",
    "import scipy as sp\n",
    "from scipy import stats\n",
    "from matplotlib import pyplot as plt\n",
    "import seaborn as sns\n",
    "%matplotlib inline\n",
    "import datetime\n",
    "import gc\n",
    "import json\n",
    "import ast\n",
    "import time\n",
    "import plotly.offline as py\n",
    "py.init_notebook_mode(connected=True)\n",
    "import plotly.graph_objs as go\n",
    "import plotly.tools as tls\n",
    "\n",
    "\n",
    "from sklearn.preprocessing import StandardScaler\n",
    "from sklearn.model_selection import cross_val_score, RepeatedStratifiedKFold, StratifiedKFold, KFold, train_test_split, GridSearchCV \n",
    "from sklearn.metrics import roc_auc_score\n",
    "from sklearn import linear_model\n",
    "import lightgbm as lgb\n",
    "import xgboost as xgb\n",
    "from catboost import CatBoostClassifier\n",
    "\n",
    "import eli5\n",
    "from eli5.sklearn import PermutationImportance\n",
    "import shap\n",
    "from mlxtend.feature_selection import SequentialFeatureSelector as SFS\n",
    "from mlxtend.plotting import plot_sequential_feature_selection as plot_sfs\n",
    "from sklearn.neighbors import NearestNeighbors\n",
    "from sklearn.feature_selection import GenericUnivariateSelect, SelectPercentile, SelectKBest, f_classif, mutual_info_classif, RFE\n",
    "import statsmodels.api as sm"
   ]
  },
  {
   "cell_type": "code",
   "execution_count": 9,
   "metadata": {},
   "outputs": [
    {
     "data": {
      "text/plain": [
       "(250, 302)"
      ]
     },
     "execution_count": 9,
     "metadata": {},
     "output_type": "execute_result"
    }
   ],
   "source": [
    "train = pd.read_csv(\"train.csv\")\n",
    "test = pd.read_csv(\"test.csv\")\n",
    "train.shape"
   ]
  },
  {
   "cell_type": "code",
   "execution_count": 10,
   "metadata": {},
   "outputs": [],
   "source": [
    "# basic EDA"
   ]
  },
  {
   "cell_type": "code",
   "execution_count": 36,
   "metadata": {},
   "outputs": [
    {
     "data": {
      "text/html": [
       "<div>\n",
       "<style scoped>\n",
       "    .dataframe tbody tr th:only-of-type {\n",
       "        vertical-align: middle;\n",
       "    }\n",
       "\n",
       "    .dataframe tbody tr th {\n",
       "        vertical-align: top;\n",
       "    }\n",
       "\n",
       "    .dataframe thead th {\n",
       "        text-align: right;\n",
       "    }\n",
       "</style>\n",
       "<table border=\"1\" class=\"dataframe\">\n",
       "  <thead>\n",
       "    <tr style=\"text-align: right;\">\n",
       "      <th></th>\n",
       "      <th>id</th>\n",
       "      <th>target</th>\n",
       "      <th>0</th>\n",
       "      <th>1</th>\n",
       "      <th>2</th>\n",
       "      <th>3</th>\n",
       "      <th>4</th>\n",
       "      <th>5</th>\n",
       "      <th>6</th>\n",
       "      <th>7</th>\n",
       "      <th>...</th>\n",
       "      <th>290</th>\n",
       "      <th>291</th>\n",
       "      <th>292</th>\n",
       "      <th>293</th>\n",
       "      <th>294</th>\n",
       "      <th>295</th>\n",
       "      <th>296</th>\n",
       "      <th>297</th>\n",
       "      <th>298</th>\n",
       "      <th>299</th>\n",
       "    </tr>\n",
       "  </thead>\n",
       "  <tbody>\n",
       "    <tr>\n",
       "      <th>0</th>\n",
       "      <td>0</td>\n",
       "      <td>1.0</td>\n",
       "      <td>-0.098</td>\n",
       "      <td>2.165</td>\n",
       "      <td>0.681</td>\n",
       "      <td>-0.614</td>\n",
       "      <td>1.309</td>\n",
       "      <td>-0.455</td>\n",
       "      <td>-0.236</td>\n",
       "      <td>0.276</td>\n",
       "      <td>...</td>\n",
       "      <td>0.867</td>\n",
       "      <td>1.347</td>\n",
       "      <td>0.504</td>\n",
       "      <td>-0.649</td>\n",
       "      <td>0.672</td>\n",
       "      <td>-2.097</td>\n",
       "      <td>1.051</td>\n",
       "      <td>-0.414</td>\n",
       "      <td>1.038</td>\n",
       "      <td>-1.065</td>\n",
       "    </tr>\n",
       "    <tr>\n",
       "      <th>1</th>\n",
       "      <td>1</td>\n",
       "      <td>0.0</td>\n",
       "      <td>1.081</td>\n",
       "      <td>-0.973</td>\n",
       "      <td>-0.383</td>\n",
       "      <td>0.326</td>\n",
       "      <td>-0.428</td>\n",
       "      <td>0.317</td>\n",
       "      <td>1.172</td>\n",
       "      <td>0.352</td>\n",
       "      <td>...</td>\n",
       "      <td>-0.165</td>\n",
       "      <td>-1.695</td>\n",
       "      <td>-1.257</td>\n",
       "      <td>1.359</td>\n",
       "      <td>-0.808</td>\n",
       "      <td>-1.624</td>\n",
       "      <td>-0.458</td>\n",
       "      <td>-1.099</td>\n",
       "      <td>-0.936</td>\n",
       "      <td>0.973</td>\n",
       "    </tr>\n",
       "    <tr>\n",
       "      <th>2</th>\n",
       "      <td>2</td>\n",
       "      <td>1.0</td>\n",
       "      <td>-0.523</td>\n",
       "      <td>-0.089</td>\n",
       "      <td>-0.348</td>\n",
       "      <td>0.148</td>\n",
       "      <td>-0.022</td>\n",
       "      <td>0.404</td>\n",
       "      <td>-0.023</td>\n",
       "      <td>-0.172</td>\n",
       "      <td>...</td>\n",
       "      <td>0.013</td>\n",
       "      <td>0.263</td>\n",
       "      <td>-1.222</td>\n",
       "      <td>0.726</td>\n",
       "      <td>1.444</td>\n",
       "      <td>-1.165</td>\n",
       "      <td>-1.544</td>\n",
       "      <td>0.004</td>\n",
       "      <td>0.800</td>\n",
       "      <td>-1.211</td>\n",
       "    </tr>\n",
       "    <tr>\n",
       "      <th>3</th>\n",
       "      <td>3</td>\n",
       "      <td>1.0</td>\n",
       "      <td>0.067</td>\n",
       "      <td>-0.021</td>\n",
       "      <td>0.392</td>\n",
       "      <td>-1.637</td>\n",
       "      <td>-0.446</td>\n",
       "      <td>-0.725</td>\n",
       "      <td>-1.035</td>\n",
       "      <td>0.834</td>\n",
       "      <td>...</td>\n",
       "      <td>-0.404</td>\n",
       "      <td>0.640</td>\n",
       "      <td>-0.595</td>\n",
       "      <td>-0.966</td>\n",
       "      <td>0.900</td>\n",
       "      <td>0.467</td>\n",
       "      <td>-0.562</td>\n",
       "      <td>-0.254</td>\n",
       "      <td>-0.533</td>\n",
       "      <td>0.238</td>\n",
       "    </tr>\n",
       "    <tr>\n",
       "      <th>4</th>\n",
       "      <td>4</td>\n",
       "      <td>1.0</td>\n",
       "      <td>2.347</td>\n",
       "      <td>-0.831</td>\n",
       "      <td>0.511</td>\n",
       "      <td>-0.021</td>\n",
       "      <td>1.225</td>\n",
       "      <td>1.594</td>\n",
       "      <td>0.585</td>\n",
       "      <td>1.509</td>\n",
       "      <td>...</td>\n",
       "      <td>0.898</td>\n",
       "      <td>0.134</td>\n",
       "      <td>2.415</td>\n",
       "      <td>-0.996</td>\n",
       "      <td>-1.006</td>\n",
       "      <td>1.378</td>\n",
       "      <td>1.246</td>\n",
       "      <td>1.478</td>\n",
       "      <td>0.428</td>\n",
       "      <td>0.253</td>\n",
       "    </tr>\n",
       "    <tr>\n",
       "      <th>5</th>\n",
       "      <td>5</td>\n",
       "      <td>1.0</td>\n",
       "      <td>-0.641</td>\n",
       "      <td>-0.576</td>\n",
       "      <td>2.493</td>\n",
       "      <td>0.317</td>\n",
       "      <td>0.009</td>\n",
       "      <td>0.428</td>\n",
       "      <td>-1.887</td>\n",
       "      <td>2.412</td>\n",
       "      <td>...</td>\n",
       "      <td>-0.266</td>\n",
       "      <td>1.548</td>\n",
       "      <td>-0.523</td>\n",
       "      <td>0.923</td>\n",
       "      <td>0.021</td>\n",
       "      <td>-0.909</td>\n",
       "      <td>0.629</td>\n",
       "      <td>-2.386</td>\n",
       "      <td>0.265</td>\n",
       "      <td>0.549</td>\n",
       "    </tr>\n",
       "    <tr>\n",
       "      <th>6</th>\n",
       "      <td>6</td>\n",
       "      <td>1.0</td>\n",
       "      <td>-0.490</td>\n",
       "      <td>0.557</td>\n",
       "      <td>-0.881</td>\n",
       "      <td>0.831</td>\n",
       "      <td>0.247</td>\n",
       "      <td>2.316</td>\n",
       "      <td>1.268</td>\n",
       "      <td>1.679</td>\n",
       "      <td>...</td>\n",
       "      <td>1.131</td>\n",
       "      <td>0.808</td>\n",
       "      <td>-1.398</td>\n",
       "      <td>0.053</td>\n",
       "      <td>0.667</td>\n",
       "      <td>-1.175</td>\n",
       "      <td>2.330</td>\n",
       "      <td>2.104</td>\n",
       "      <td>0.007</td>\n",
       "      <td>-1.066</td>\n",
       "    </tr>\n",
       "    <tr>\n",
       "      <th>7</th>\n",
       "      <td>7</td>\n",
       "      <td>1.0</td>\n",
       "      <td>1.252</td>\n",
       "      <td>-1.370</td>\n",
       "      <td>-0.196</td>\n",
       "      <td>2.246</td>\n",
       "      <td>-0.617</td>\n",
       "      <td>-0.479</td>\n",
       "      <td>-0.629</td>\n",
       "      <td>1.642</td>\n",
       "      <td>...</td>\n",
       "      <td>-1.978</td>\n",
       "      <td>2.801</td>\n",
       "      <td>-1.643</td>\n",
       "      <td>-0.244</td>\n",
       "      <td>-0.864</td>\n",
       "      <td>-0.022</td>\n",
       "      <td>1.598</td>\n",
       "      <td>-0.693</td>\n",
       "      <td>-0.358</td>\n",
       "      <td>-0.084</td>\n",
       "    </tr>\n",
       "    <tr>\n",
       "      <th>8</th>\n",
       "      <td>8</td>\n",
       "      <td>1.0</td>\n",
       "      <td>1.410</td>\n",
       "      <td>-1.097</td>\n",
       "      <td>1.170</td>\n",
       "      <td>-0.091</td>\n",
       "      <td>-0.102</td>\n",
       "      <td>-0.835</td>\n",
       "      <td>-1.141</td>\n",
       "      <td>0.355</td>\n",
       "      <td>...</td>\n",
       "      <td>-1.546</td>\n",
       "      <td>-0.190</td>\n",
       "      <td>1.387</td>\n",
       "      <td>1.021</td>\n",
       "      <td>-0.912</td>\n",
       "      <td>0.094</td>\n",
       "      <td>-0.930</td>\n",
       "      <td>1.931</td>\n",
       "      <td>1.190</td>\n",
       "      <td>0.964</td>\n",
       "    </tr>\n",
       "    <tr>\n",
       "      <th>9</th>\n",
       "      <td>9</td>\n",
       "      <td>1.0</td>\n",
       "      <td>-1.811</td>\n",
       "      <td>0.566</td>\n",
       "      <td>-0.406</td>\n",
       "      <td>-0.490</td>\n",
       "      <td>-0.985</td>\n",
       "      <td>-0.303</td>\n",
       "      <td>1.068</td>\n",
       "      <td>-0.038</td>\n",
       "      <td>...</td>\n",
       "      <td>-0.705</td>\n",
       "      <td>1.045</td>\n",
       "      <td>-1.281</td>\n",
       "      <td>-1.727</td>\n",
       "      <td>-0.969</td>\n",
       "      <td>-1.367</td>\n",
       "      <td>0.109</td>\n",
       "      <td>1.416</td>\n",
       "      <td>1.472</td>\n",
       "      <td>1.458</td>\n",
       "    </tr>\n",
       "  </tbody>\n",
       "</table>\n",
       "<p>10 rows × 302 columns</p>\n",
       "</div>"
      ],
      "text/plain": [
       "   id  target      0      1      2      3      4      5      6      7  ...    \\\n",
       "0   0     1.0 -0.098  2.165  0.681 -0.614  1.309 -0.455 -0.236  0.276  ...     \n",
       "1   1     0.0  1.081 -0.973 -0.383  0.326 -0.428  0.317  1.172  0.352  ...     \n",
       "2   2     1.0 -0.523 -0.089 -0.348  0.148 -0.022  0.404 -0.023 -0.172  ...     \n",
       "3   3     1.0  0.067 -0.021  0.392 -1.637 -0.446 -0.725 -1.035  0.834  ...     \n",
       "4   4     1.0  2.347 -0.831  0.511 -0.021  1.225  1.594  0.585  1.509  ...     \n",
       "5   5     1.0 -0.641 -0.576  2.493  0.317  0.009  0.428 -1.887  2.412  ...     \n",
       "6   6     1.0 -0.490  0.557 -0.881  0.831  0.247  2.316  1.268  1.679  ...     \n",
       "7   7     1.0  1.252 -1.370 -0.196  2.246 -0.617 -0.479 -0.629  1.642  ...     \n",
       "8   8     1.0  1.410 -1.097  1.170 -0.091 -0.102 -0.835 -1.141  0.355  ...     \n",
       "9   9     1.0 -1.811  0.566 -0.406 -0.490 -0.985 -0.303  1.068 -0.038  ...     \n",
       "\n",
       "     290    291    292    293    294    295    296    297    298    299  \n",
       "0  0.867  1.347  0.504 -0.649  0.672 -2.097  1.051 -0.414  1.038 -1.065  \n",
       "1 -0.165 -1.695 -1.257  1.359 -0.808 -1.624 -0.458 -1.099 -0.936  0.973  \n",
       "2  0.013  0.263 -1.222  0.726  1.444 -1.165 -1.544  0.004  0.800 -1.211  \n",
       "3 -0.404  0.640 -0.595 -0.966  0.900  0.467 -0.562 -0.254 -0.533  0.238  \n",
       "4  0.898  0.134  2.415 -0.996 -1.006  1.378  1.246  1.478  0.428  0.253  \n",
       "5 -0.266  1.548 -0.523  0.923  0.021 -0.909  0.629 -2.386  0.265  0.549  \n",
       "6  1.131  0.808 -1.398  0.053  0.667 -1.175  2.330  2.104  0.007 -1.066  \n",
       "7 -1.978  2.801 -1.643 -0.244 -0.864 -0.022  1.598 -0.693 -0.358 -0.084  \n",
       "8 -1.546 -0.190  1.387  1.021 -0.912  0.094 -0.930  1.931  1.190  0.964  \n",
       "9 -0.705  1.045 -1.281 -1.727 -0.969 -1.367  0.109  1.416  1.472  1.458  \n",
       "\n",
       "[10 rows x 302 columns]"
      ]
     },
     "execution_count": 36,
     "metadata": {},
     "output_type": "execute_result"
    }
   ],
   "source": [
    "train.head(10)"
   ]
  },
  {
   "cell_type": "code",
   "execution_count": 13,
   "metadata": {},
   "outputs": [],
   "source": [
    "# Определенной тематики нет, а значит пользуемся строго формальным описанием, фьючер импортанс и тп. \n",
    "# Посмотрим, на распределения, дисперсию, корреляции и далее :)"
   ]
  },
  {
   "cell_type": "code",
   "execution_count": 19,
   "metadata": {},
   "outputs": [
    {
     "data": {
      "text/plain": [
       "id        False\n",
       "target    False\n",
       "0         False\n",
       "1         False\n",
       "2         False\n",
       "3         False\n",
       "4         False\n",
       "5         False\n",
       "6         False\n",
       "7         False\n",
       "8         False\n",
       "9         False\n",
       "10        False\n",
       "11        False\n",
       "12        False\n",
       "13        False\n",
       "14        False\n",
       "15        False\n",
       "16        False\n",
       "17        False\n",
       "18        False\n",
       "19        False\n",
       "20        False\n",
       "21        False\n",
       "22        False\n",
       "23        False\n",
       "24        False\n",
       "25        False\n",
       "26        False\n",
       "27        False\n",
       "          ...  \n",
       "270       False\n",
       "271       False\n",
       "272       False\n",
       "273       False\n",
       "274       False\n",
       "275       False\n",
       "276       False\n",
       "277       False\n",
       "278       False\n",
       "279       False\n",
       "280       False\n",
       "281       False\n",
       "282       False\n",
       "283       False\n",
       "284       False\n",
       "285       False\n",
       "286       False\n",
       "287       False\n",
       "288       False\n",
       "289       False\n",
       "290       False\n",
       "291       False\n",
       "292       False\n",
       "293       False\n",
       "294       False\n",
       "295       False\n",
       "296       False\n",
       "297       False\n",
       "298       False\n",
       "299       False\n",
       "Length: 302, dtype: bool"
      ]
     },
     "execution_count": 19,
     "metadata": {},
     "output_type": "execute_result"
    }
   ],
   "source": [
    "train.isnull().any()"
   ]
  },
  {
   "cell_type": "code",
   "execution_count": 20,
   "metadata": {},
   "outputs": [
    {
     "data": {
      "text/plain": [
       "False"
      ]
     },
     "execution_count": 20,
     "metadata": {},
     "output_type": "execute_result"
    }
   ],
   "source": [
    "train.isnull().any().any()"
   ]
  },
  {
   "cell_type": "code",
   "execution_count": 29,
   "metadata": {},
   "outputs": [],
   "source": [
    "X_train = train.drop(['id', 'target'], axis = 1)\n",
    "y_train = train['target']"
   ]
  },
  {
   "cell_type": "code",
   "execution_count": 57,
   "metadata": {},
   "outputs": [
    {
     "data": {
      "text/html": [
       "<div>\n",
       "<style scoped>\n",
       "    .dataframe tbody tr th:only-of-type {\n",
       "        vertical-align: middle;\n",
       "    }\n",
       "\n",
       "    .dataframe tbody tr th {\n",
       "        vertical-align: top;\n",
       "    }\n",
       "\n",
       "    .dataframe thead th {\n",
       "        text-align: right;\n",
       "    }\n",
       "</style>\n",
       "<table border=\"1\" class=\"dataframe\">\n",
       "  <thead>\n",
       "    <tr style=\"text-align: right;\">\n",
       "      <th></th>\n",
       "      <th>id</th>\n",
       "      <th>0</th>\n",
       "      <th>1</th>\n",
       "      <th>2</th>\n",
       "      <th>3</th>\n",
       "      <th>4</th>\n",
       "      <th>5</th>\n",
       "      <th>6</th>\n",
       "      <th>7</th>\n",
       "      <th>8</th>\n",
       "      <th>...</th>\n",
       "      <th>290</th>\n",
       "      <th>291</th>\n",
       "      <th>292</th>\n",
       "      <th>293</th>\n",
       "      <th>294</th>\n",
       "      <th>295</th>\n",
       "      <th>296</th>\n",
       "      <th>297</th>\n",
       "      <th>298</th>\n",
       "      <th>299</th>\n",
       "    </tr>\n",
       "  </thead>\n",
       "  <tbody>\n",
       "    <tr>\n",
       "      <th>0</th>\n",
       "      <td>250</td>\n",
       "      <td>0.500</td>\n",
       "      <td>-1.033</td>\n",
       "      <td>-1.595</td>\n",
       "      <td>0.309</td>\n",
       "      <td>-0.714</td>\n",
       "      <td>0.502</td>\n",
       "      <td>0.535</td>\n",
       "      <td>-0.129</td>\n",
       "      <td>-0.687</td>\n",
       "      <td>...</td>\n",
       "      <td>-0.088</td>\n",
       "      <td>-2.628</td>\n",
       "      <td>-0.845</td>\n",
       "      <td>2.078</td>\n",
       "      <td>-0.277</td>\n",
       "      <td>2.132</td>\n",
       "      <td>0.609</td>\n",
       "      <td>-0.104</td>\n",
       "      <td>0.312</td>\n",
       "      <td>0.979</td>\n",
       "    </tr>\n",
       "    <tr>\n",
       "      <th>1</th>\n",
       "      <td>251</td>\n",
       "      <td>0.776</td>\n",
       "      <td>0.914</td>\n",
       "      <td>-0.494</td>\n",
       "      <td>1.347</td>\n",
       "      <td>-0.867</td>\n",
       "      <td>0.480</td>\n",
       "      <td>0.578</td>\n",
       "      <td>-0.313</td>\n",
       "      <td>0.203</td>\n",
       "      <td>...</td>\n",
       "      <td>-0.683</td>\n",
       "      <td>-0.066</td>\n",
       "      <td>0.025</td>\n",
       "      <td>0.606</td>\n",
       "      <td>-0.353</td>\n",
       "      <td>-1.133</td>\n",
       "      <td>-3.138</td>\n",
       "      <td>0.281</td>\n",
       "      <td>-0.625</td>\n",
       "      <td>-0.761</td>\n",
       "    </tr>\n",
       "    <tr>\n",
       "      <th>2</th>\n",
       "      <td>252</td>\n",
       "      <td>1.750</td>\n",
       "      <td>0.509</td>\n",
       "      <td>-0.057</td>\n",
       "      <td>0.835</td>\n",
       "      <td>-0.476</td>\n",
       "      <td>1.428</td>\n",
       "      <td>-0.701</td>\n",
       "      <td>-2.009</td>\n",
       "      <td>-1.378</td>\n",
       "      <td>...</td>\n",
       "      <td>-0.094</td>\n",
       "      <td>0.351</td>\n",
       "      <td>-0.607</td>\n",
       "      <td>-0.737</td>\n",
       "      <td>-0.031</td>\n",
       "      <td>0.701</td>\n",
       "      <td>0.976</td>\n",
       "      <td>0.135</td>\n",
       "      <td>-1.327</td>\n",
       "      <td>2.463</td>\n",
       "    </tr>\n",
       "    <tr>\n",
       "      <th>3</th>\n",
       "      <td>253</td>\n",
       "      <td>-0.556</td>\n",
       "      <td>-1.855</td>\n",
       "      <td>-0.682</td>\n",
       "      <td>0.578</td>\n",
       "      <td>1.592</td>\n",
       "      <td>0.512</td>\n",
       "      <td>-1.419</td>\n",
       "      <td>0.722</td>\n",
       "      <td>0.511</td>\n",
       "      <td>...</td>\n",
       "      <td>-0.336</td>\n",
       "      <td>-0.787</td>\n",
       "      <td>0.255</td>\n",
       "      <td>-0.031</td>\n",
       "      <td>-0.836</td>\n",
       "      <td>0.916</td>\n",
       "      <td>2.411</td>\n",
       "      <td>1.053</td>\n",
       "      <td>-1.601</td>\n",
       "      <td>-1.529</td>\n",
       "    </tr>\n",
       "    <tr>\n",
       "      <th>4</th>\n",
       "      <td>254</td>\n",
       "      <td>0.754</td>\n",
       "      <td>-0.245</td>\n",
       "      <td>1.173</td>\n",
       "      <td>-1.623</td>\n",
       "      <td>0.009</td>\n",
       "      <td>0.370</td>\n",
       "      <td>0.781</td>\n",
       "      <td>-1.763</td>\n",
       "      <td>-1.432</td>\n",
       "      <td>...</td>\n",
       "      <td>2.184</td>\n",
       "      <td>-1.090</td>\n",
       "      <td>0.216</td>\n",
       "      <td>1.186</td>\n",
       "      <td>-0.143</td>\n",
       "      <td>0.322</td>\n",
       "      <td>-0.068</td>\n",
       "      <td>-0.156</td>\n",
       "      <td>-1.153</td>\n",
       "      <td>0.825</td>\n",
       "    </tr>\n",
       "  </tbody>\n",
       "</table>\n",
       "<p>5 rows × 301 columns</p>\n",
       "</div>"
      ],
      "text/plain": [
       "    id      0      1      2      3      4      5      6      7      8  ...    \\\n",
       "0  250  0.500 -1.033 -1.595  0.309 -0.714  0.502  0.535 -0.129 -0.687  ...     \n",
       "1  251  0.776  0.914 -0.494  1.347 -0.867  0.480  0.578 -0.313  0.203  ...     \n",
       "2  252  1.750  0.509 -0.057  0.835 -0.476  1.428 -0.701 -2.009 -1.378  ...     \n",
       "3  253 -0.556 -1.855 -0.682  0.578  1.592  0.512 -1.419  0.722  0.511  ...     \n",
       "4  254  0.754 -0.245  1.173 -1.623  0.009  0.370  0.781 -1.763 -1.432  ...     \n",
       "\n",
       "     290    291    292    293    294    295    296    297    298    299  \n",
       "0 -0.088 -2.628 -0.845  2.078 -0.277  2.132  0.609 -0.104  0.312  0.979  \n",
       "1 -0.683 -0.066  0.025  0.606 -0.353 -1.133 -3.138  0.281 -0.625 -0.761  \n",
       "2 -0.094  0.351 -0.607 -0.737 -0.031  0.701  0.976  0.135 -1.327  2.463  \n",
       "3 -0.336 -0.787  0.255 -0.031 -0.836  0.916  2.411  1.053 -1.601 -1.529  \n",
       "4  2.184 -1.090  0.216  1.186 -0.143  0.322 -0.068 -0.156 -1.153  0.825  \n",
       "\n",
       "[5 rows x 301 columns]"
      ]
     },
     "execution_count": 57,
     "metadata": {},
     "output_type": "execute_result"
    }
   ],
   "source": [
    "test.head()"
   ]
  },
  {
   "cell_type": "code",
   "execution_count": 58,
   "metadata": {},
   "outputs": [],
   "source": [
    "X_test = test.drop(['id'], axis = 1)"
   ]
  },
  {
   "cell_type": "code",
   "execution_count": 40,
   "metadata": {},
   "outputs": [
    {
     "data": {
      "image/png": "[encoded data removed]",
      "text/plain": [
       "<Figure size 432x288 with 1 Axes>"
      ]
     },
     "metadata": {
      "needs_background": "light"
     },
     "output_type": "display_data"
    }
   ],
   "source": [
    "X_train.std().plot('hist')\n",
    "plt.title('STD for all columns');"
   ]
  },
  {
   "cell_type": "code",
   "execution_count": 39,
   "metadata": {},
   "outputs": [
    {
     "data": {
      "text/plain": [
       "Text(0.5, 1.0, 'Means for all columns')"
      ]
     },
     "execution_count": 39,
     "metadata": {},
     "output_type": "execute_result"
    },
    {
     "data": {
      "image/png": "[encoded data removed]",
      "text/plain": [
       "<Figure size 432x288 with 1 Axes>"
      ]
     },
     "metadata": {
      "needs_background": "light"
     },
     "output_type": "display_data"
    }
   ],
   "source": [
    "X_train.mean().plot('hist')\n",
    "\n",
    "plt.title(\"Means for all columns\");"
   ]
  },
  {
   "cell_type": "code",
   "execution_count": 41,
   "metadata": {},
   "outputs": [
    {
     "data": {
      "text/plain": [
       "1.0    160\n",
       "0.0     90\n",
       "Name: target, dtype: int64"
      ]
     },
     "execution_count": 41,
     "metadata": {},
     "output_type": "execute_result"
    }
   ],
   "source": [
    "y_train.value_counts()"
   ]
  },
  {
   "cell_type": "code",
   "execution_count": 51,
   "metadata": {},
   "outputs": [
    {
     "data": {
      "text/html": [
       "<div>\n",
       "<style scoped>\n",
       "    .dataframe tbody tr th:only-of-type {\n",
       "        vertical-align: middle;\n",
       "    }\n",
       "\n",
       "    .dataframe tbody tr th {\n",
       "        vertical-align: top;\n",
       "    }\n",
       "\n",
       "    .dataframe thead th {\n",
       "        text-align: right;\n",
       "    }\n",
       "</style>\n",
       "<table border=\"1\" class=\"dataframe\">\n",
       "  <thead>\n",
       "    <tr style=\"text-align: right;\">\n",
       "      <th></th>\n",
       "      <th>level_0</th>\n",
       "      <th>level_1</th>\n",
       "      <th>0</th>\n",
       "    </tr>\n",
       "  </thead>\n",
       "  <tbody>\n",
       "    <tr>\n",
       "      <th>90892</th>\n",
       "      <td>22</td>\n",
       "      <td>28</td>\n",
       "      <td>0.246062</td>\n",
       "    </tr>\n",
       "    <tr>\n",
       "      <th>90893</th>\n",
       "      <td>28</td>\n",
       "      <td>22</td>\n",
       "      <td>0.246062</td>\n",
       "    </tr>\n",
       "    <tr>\n",
       "      <th>90894</th>\n",
       "      <td>193</td>\n",
       "      <td>101</td>\n",
       "      <td>0.252825</td>\n",
       "    </tr>\n",
       "    <tr>\n",
       "      <th>90895</th>\n",
       "      <td>101</td>\n",
       "      <td>193</td>\n",
       "      <td>0.252825</td>\n",
       "    </tr>\n",
       "    <tr>\n",
       "      <th>90896</th>\n",
       "      <td>75</td>\n",
       "      <td>32</td>\n",
       "      <td>0.259315</td>\n",
       "    </tr>\n",
       "    <tr>\n",
       "      <th>90897</th>\n",
       "      <td>32</td>\n",
       "      <td>75</td>\n",
       "      <td>0.259315</td>\n",
       "    </tr>\n",
       "    <tr>\n",
       "      <th>90898</th>\n",
       "      <td>target</td>\n",
       "      <td>65</td>\n",
       "      <td>0.293846</td>\n",
       "    </tr>\n",
       "    <tr>\n",
       "      <th>90899</th>\n",
       "      <td>65</td>\n",
       "      <td>target</td>\n",
       "      <td>0.293846</td>\n",
       "    </tr>\n",
       "    <tr>\n",
       "      <th>90900</th>\n",
       "      <td>33</td>\n",
       "      <td>target</td>\n",
       "      <td>0.373608</td>\n",
       "    </tr>\n",
       "    <tr>\n",
       "      <th>90901</th>\n",
       "      <td>target</td>\n",
       "      <td>33</td>\n",
       "      <td>0.373608</td>\n",
       "    </tr>\n",
       "  </tbody>\n",
       "</table>\n",
       "</div>"
      ],
      "text/plain": [
       "      level_0 level_1         0\n",
       "90892      22      28  0.246062\n",
       "90893      28      22  0.246062\n",
       "90894     193     101  0.252825\n",
       "90895     101     193  0.252825\n",
       "90896      75      32  0.259315\n",
       "90897      32      75  0.259315\n",
       "90898  target      65  0.293846\n",
       "90899      65  target  0.293846\n",
       "90900      33  target  0.373608\n",
       "90901  target      33  0.373608"
      ]
     },
     "execution_count": 51,
     "metadata": {},
     "output_type": "execute_result"
    }
   ],
   "source": [
    "corrs = train.corr().abs().unstack().sort_values(ascending=True).reset_index()\n",
    "corrs = corrs[corrs['level_0'] != corrs['level_1']]\n",
    "corrs.tail(10)"
   ]
  },
  {
   "cell_type": "code",
   "execution_count": 55,
   "metadata": {},
   "outputs": [],
   "source": [
    "# корреляции между признаками маленькие с самой большой в 0.374"
   ]
  },
  {
   "cell_type": "code",
   "execution_count": 101,
   "metadata": {},
   "outputs": [],
   "source": [
    "n_folds = 20\n",
    "SKfold = StratifiedKFold(n_splits=n_folds, shuffle=True, random_state=42)\n",
    "repeated_fold = RepeatedStratifiedKFold(n_splits=n_folds, n_repeats=20, random_state=42)"
   ]
  },
  {
   "cell_type": "code",
   "execution_count": 102,
   "metadata": {},
   "outputs": [],
   "source": [
    "scaler=StandardScaler()\n",
    "X_train_scaled = scaler.fit_transform(X_train)\n",
    "X_test_scaled = scaler.transform(X_test)"
   ]
  },
  {
   "cell_type": "code",
   "execution_count": 107,
   "metadata": {},
   "outputs": [],
   "source": [
    "#train models with strafitied KFold, oof and pred, template "
   ]
  },
  {
   "cell_type": "code",
   "execution_count": 118,
   "metadata": {},
   "outputs": [],
   "source": [
    "def train_model(X, \n",
    "                X_test, \n",
    "                y, \n",
    "                params, \n",
    "                folds=SKfold, \n",
    "                model_type='lgb', \n",
    "                plot_feature_importance=False, \n",
    "                averaging='usual', \n",
    "                model=None\n",
    "                ):\n",
    "    oof = np.zeros(len(X))\n",
    "    prediction = np.zeros(len(X_test))\n",
    "    scores = []\n",
    "    feature_importance = pd.DataFrame()\n",
    "    for fold_n, (train_index, valid_index) in enumerate(folds.split(X, y)):\n",
    "        # print('Fold', fold_n, 'started at', time.ctime())\n",
    "        X_train, X_valid = X[train_index], X[valid_index]\n",
    "        y_train, y_valid = y[train_index], y[valid_index]\n",
    "        \n",
    "        if model_type == 'lgb':\n",
    "            train_data = lgb.Dataset(X_train, label=y_train)\n",
    "            valid_data = lgb.Dataset(X_valid, label=y_valid)\n",
    "            \n",
    "            model = lgb.train(params,\n",
    "                    train_data,\n",
    "                    num_boost_round=2000,\n",
    "                    valid_sets = [train_data, valid_data],\n",
    "                    verbose_eval=500,\n",
    "                    early_stopping_rounds = 200)\n",
    "            \n",
    "            y_pred_valid = model.predict(X_valid)\n",
    "            y_pred = model.predict(X_test, num_iteration=model.best_iteration_)\n",
    "            \n",
    "        if model_type == 'xgb':\n",
    "            train_data = xgb.DMatrix(data=X_train, label=y_train, feature_names=X_tr.columns)\n",
    "            valid_data = xgb.DMatrix(data=X_valid, label=y_valid, feature_names=X_tr.columns)\n",
    "\n",
    "            watchlist = [(train_data, 'train'), (valid_data, 'valid_data')]\n",
    "            model = xgb.train(dtrain=train_data, num_boost_round=20000, evals=watchlist, early_stopping_rounds=200, verbose_eval=500, params=params)\n",
    "            y_pred_valid = model.predict(xgb.DMatrix(X_valid, feature_names=X_tr.columns), ntree_limit=model.best_ntree_limit)\n",
    "            y_pred = model.predict(xgb.DMatrix(X_test, feature_names=X_tr.columns), ntree_limit=model.best_ntree_limit)\n",
    "        \n",
    "        if model_type == 'cat':\n",
    "            model = CatBoostClassifier(iterations=20000,  eval_metric='AUC', **params)\n",
    "            model.fit(X_train, y_train, eval_set=(X_valid, y_valid), cat_features=[], use_best_model=True, verbose=False)\n",
    "\n",
    "            y_pred_valid = model.predict(X_valid)\n",
    "            y_pred = model.predict(X_test)\n",
    "            \n",
    "            \n",
    "        if model_type == 'sklearn':\n",
    "            model = model\n",
    "            model.fit(X_train, y_train)\n",
    "            y_pred_valid = model.predict(X_valid).reshape(-1,)\n",
    "            score = roc_auc_score(y_valid, y_pred_valid)\n",
    "            # print(f'Fold {fold_n}. AUC: {score:.4f}.')\n",
    "            # print('')\n",
    "            \n",
    "            y_pred = model.predict_proba(X_test)[:, 1]\n",
    "            \n",
    "        if model_type == 'glm':\n",
    "            model = sm.GLM(y_train, X_train, family=sm.families.Binomial())\n",
    "            model_results = model.fit()\n",
    "            model_results.predict(X_test)\n",
    "            y_pred_valid = model_results.predict(X_valid).reshape(-1,)\n",
    "            score = roc_auc_score(y_valid, y_pred_valid)\n",
    "            \n",
    "            y_pred = model_results.predict(X_test)\n",
    "        \n",
    "        oof[valid_index] = y_pred_valid.reshape(-1,)\n",
    "        scores.append(roc_auc_score(y_valid, y_pred_valid))\n",
    "\n",
    "        if averaging == 'usual':\n",
    "            prediction += y_pred\n",
    "        elif averaging == 'rank':\n",
    "            prediction += pd.Series(y_pred).rank().values  \n",
    "        \n",
    "        if model_type == 'lgb':\n",
    "            # feature importance\n",
    "            fold_importance = pd.DataFrame()\n",
    "            fold_importance[\"feature\"] = X.columns\n",
    "            fold_importance[\"importance\"] = model.feature_importances_\n",
    "            fold_importance[\"fold\"] = fold_n + 1\n",
    "            feature_importance = pd.concat([feature_importance, fold_importance], axis=0)\n",
    "\n",
    "    prediction /= n_folds\n",
    "    \n",
    "    print('CV mean score: {0:.4f}, std: {1:.4f}.'.format(np.mean(scores), np.std(scores)))\n",
    "    \n",
    "    if model_type == 'lgb':\n",
    "        feature_importance[\"importance\"] /= n_fold\n",
    "        if plot_feature_importance:\n",
    "            cols = feature_importance[[\"feature\", \"importance\"]].groupby(\"feature\").mean().sort_values(\n",
    "                by=\"importance\", ascending=False)[:50].index\n",
    "\n",
    "            best_features = feature_importance.loc[feature_importance.feature.isin(cols)]\n",
    "\n",
    "            plt.figure(figsize=(16, 12));\n",
    "            sns.barplot(x=\"importance\", y=\"feature\", data=best_features.sort_values(by=\"importance\", ascending=False));\n",
    "            plt.title('LGB Features (avg over folds)');\n",
    "        \n",
    "            return oof, prediction, feature_importance\n",
    "        return oof, prediction, scores\n",
    "    \n",
    "    else:\n",
    "        return oof, prediction, scores"
   ]
  },
  {
   "cell_type": "code",
   "execution_count": 74,
   "metadata": {},
   "outputs": [],
   "source": [
    "# очевидно, что логрег тут должен справиться хорошо, посмотрим"
   ]
  },
  {
   "cell_type": "code",
   "execution_count": 108,
   "metadata": {},
   "outputs": [
    {
     "name": "stdout",
     "output_type": "stream",
     "text": [
      "Best score :0.8169\n",
      "Best parameters :{'C': 0.1, 'class_weight': None, 'penalty': 'l1'}\n"
     ]
    }
   ],
   "source": [
    "LR = linear_model.LogisticRegression(solver='liblinear', max_iter=10000)\n",
    "param_grid = {\"class_weight\" : ['balanced', None], \n",
    "              \"penalty\" : ['l1', \"l2\"],\n",
    "              'C' : [0.001, 0.01, 0.08, 0.1, 0.15, 1.0, 10.0, 100.0]\n",
    "              }\n",
    "CV = GridSearchCV(LR, param_grid = param_grid, cv = n_folds, scoring= 'roc_auc')\n",
    "CV.fit(X_train, y_train)\n",
    "print ('Best score :{}'.format(CV.best_score_))\n",
    "print ('Best parameters :{}'.format(CV.best_params_))"
   ]
  },
  {
   "cell_type": "code",
   "execution_count": 109,
   "metadata": {},
   "outputs": [
    {
     "name": "stdout",
     "output_type": "stream",
     "text": [
      "CV mean score: 0.7063, std: 0.1132.\n"
     ]
    }
   ],
   "source": [
    "model = linear_model.LogisticRegression(max_iter=10000, \n",
    "                                        class_weight=CV.best_params_['class_weight'],\n",
    "                                        penalty=CV.best_params_['penalty'], \n",
    "                                        C=CV.best_params_[\"C\"]\n",
    "                                        )\n",
    "\n",
    "oof_lr, prediction_lr, scores = train_model(X_train_scaled, X_test_scaled, y_train, params=None, model_type='sklearn', model=model)"
   ]
  },
  {
   "cell_type": "code",
   "execution_count": 76,
   "metadata": {},
   "outputs": [],
   "source": [
    "# теперь взглянем на другие классификаторы"
   ]
  },
  {
   "cell_type": "code",
   "execution_count": 119,
   "metadata": {},
   "outputs": [
    {
     "name": "stdout",
     "output_type": "stream",
     "text": [
      "Best score: 0.7549\n",
      "Best parameters: {'max_depth': 3, 'max_features': 'sqrt', 'n_estimators': 1000}\n"
     ]
    }
   ],
   "source": [
    "from sklearn.ensemble import RandomForestClassifier\n",
    "RF = RandomForestClassifier()\n",
    "params = {'n_estimators' : [10, 50, 100, 1000],\n",
    "           'max_depth' : [None, 2, 3, 5, 10], # not really needed \n",
    "           'max_features' : ['sqrt', 'log2']\n",
    "          }\n",
    "CV = GridSearchCV(RF, param_grid = params, cv = n_folds, n_jobs = -1, scoring = 'roc_auc')\n",
    "CV.fit(X_train, y_train)\n",
    "print (\"Best score: {}\".format(CV.best_score_))\n",
    "print (\"Best parameters: {}\".format(CV.best_params_))"
   ]
  },
  {
   "cell_type": "code",
   "execution_count": 120,
   "metadata": {},
   "outputs": [
    {
     "name": "stdout",
     "output_type": "stream",
     "text": [
      "CV mean score: 0.5750, std: 0.0913.\n"
     ]
    }
   ],
   "source": [
    "model_RF = RandomForestClassifier(**CV.best_params_)\n",
    "oof_RF, prediction_RF, scores_RF = train_model(X_train_scaled, X_test_scaled, y_train, params = None, model_type = 'sklearn', model = RF)"
   ]
  },
  {
   "cell_type": "code",
   "execution_count": 122,
   "metadata": {},
   "outputs": [
    {
     "name": "stdout",
     "output_type": "stream",
     "text": [
      "Best score: 0.7723000000000001\n",
      "Best parameters: {'C': 0.1, 'kernel': 'linear'}\n"
     ]
    }
   ],
   "source": [
    "from sklearn.svm import SVC\n",
    "svc = SVC(probability = True, gamma = 'scale')\n",
    "params = {'C' : [0.001, 0.01, 0.1, 1, 10],\n",
    "          'kernel' : ['linear','poly', 'rbf']\n",
    "         }\n",
    "CV = GridSearchCV(svc, param_grid = params, cv = n_folds, scoring = 'roc_auc', n_jobs = -1)\n",
    "CV.fit(X_train, y_train)\n",
    "print ('Best score: {}'.format(CV.best_score_))\n",
    "print ('Best parameters: {}'.format(CV.best_params_))"
   ]
  },
  {
   "cell_type": "code",
   "execution_count": 124,
   "metadata": {},
   "outputs": [
    {
     "name": "stdout",
     "output_type": "stream",
     "text": [
      "CV mean score: 0.6750, std: 0.1399.\n"
     ]
    }
   ],
   "source": [
    "svc = SVC(probability = True, gamma = 'scale', **CV.best_params_)\n",
    "oof_svc, prediction_svc, scores_svc = train_model(X_train_scaled, X_test_scaled, y_train, params = None, model_type = 'sklearn', model = svc)"
   ]
  },
  {
   "cell_type": "code",
   "execution_count": 125,
   "metadata": {},
   "outputs": [],
   "source": [
    "# SVC тоже справился хорошо, в любом случае позже сравним всех с логрегрессией"
   ]
  },
  {
   "cell_type": "code",
   "execution_count": 126,
   "metadata": {},
   "outputs": [
    {
     "name": "stdout",
     "output_type": "stream",
     "text": [
      "Best score: 0.6427999999999999\n",
      "Best parameters: {'leaf_size': 5, 'n_neighbors': 10, 'weights': 'distance'}\n",
      "CV mean score: 0.5981, std: 0.1391.\n"
     ]
    }
   ],
   "source": [
    "from sklearn.neighbors import KNeighborsClassifier\n",
    "knc = KNeighborsClassifier()\n",
    "\n",
    "params = {'n_neighbors': [2, 3, 5, 10, 20],\n",
    "                  'weights': ['uniform', 'distance'],\n",
    "                  'leaf_size': [5, 10, 30]\n",
    "                 }\n",
    "\n",
    "CV = GridSearchCV(knc, param_grid=params, cv=n_folds, scoring='roc_auc', n_jobs=-1)\n",
    "CV.fit(X_train, y_train)\n",
    "print('Best score: {}'.format(CV.best_score_))\n",
    "print('Best parameters: {}'.format(CV.best_params_))\n",
    "knc = KNeighborsClassifier(**CV.best_params_)\n",
    "oof_knc, prediction_knc, scores_knc = train_model(X_train_scaled, X_test_scaled, y_train, params=None, model_type='sklearn', model=knc)"
   ]
  },
  {
   "cell_type": "code",
   "execution_count": 127,
   "metadata": {},
   "outputs": [
    {
     "name": "stdout",
     "output_type": "stream",
     "text": [
      "Best score: 0.6477999999999999\n",
      "Best parameters: {'alpha': 0.0001}\n",
      "CV mean score: 0.5950, std: 0.1049.\n"
     ]
    }
   ],
   "source": [
    "from sklearn.naive_bayes import BernoulliNB\n",
    "bnb = BernoulliNB()\n",
    "\n",
    "params = {'alpha': [0.0001, 1, 2, 10]\n",
    "                 }\n",
    "\n",
    "CV = GridSearchCV(bnb, param_grid=params, cv=n_folds, scoring='roc_auc', n_jobs=-1)\n",
    "CV.fit(X_train, y_train)\n",
    "print('Best score: {}'.format(CV.best_score_))\n",
    "print('Best parameters: {}'.format(CV.best_params_))\n",
    "bnb = BernoulliNB(**CV.best_params_)\n",
    "oof_bnb, prediction_bnb, scores_bnb = train_model(X_train_scaled, X_test_scaled, y_train, params=None, model_type='sklearn', model=bnb)"
   ]
  },
  {
   "cell_type": "code",
   "execution_count": 133,
   "metadata": {},
   "outputs": [
    {
     "name": "stdout",
     "output_type": "stream",
     "text": [
      "Best score: 0.8341000000000001\n",
      "Best parameters: {'alpha': 0.05, 'l1_ratio': 0, 'learning_rate': 'adaptive', 'loss': 'log', 'penalty': 'l1'}\n",
      "CV mean score: 0.6750, std: 0.0855.\n"
     ]
    }
   ],
   "source": [
    "sgd = linear_model.SGDClassifier(eta0=1, max_iter=1000, tol=0.0001)\n",
    "\n",
    "params = {'loss': ['log', 'modified_huber'],\n",
    "                  'penalty': ['l1', 'l2', 'elasticnet'],\n",
    "                  'alpha': [0.001, 0.01, 0.05],\n",
    "                  'l1_ratio': [0, 0.15, 0.5, 1.0],\n",
    "                  'learning_rate': ['optimal', 'invscaling', 'adaptive']\n",
    "                 }\n",
    "\n",
    "CV = GridSearchCV(sgd, param_grid=params, cv=n_folds, scoring='roc_auc', n_jobs=-1)\n",
    "CV.fit(X_train_scaled, y_train)\n",
    "print('Best score: {}'.format(CV.best_score_))\n",
    "print('Best parameters: {}'.format(CV.best_params_))\n",
    "sgd = linear_model.SGDClassifier(eta0=1, tol=0.0001, **CV.best_params_)\n",
    "oof_sgd, prediction_sgd, scores_sgd = train_model(X_train_scaled, X_test_scaled, y_train, params=None, model_type='sklearn', model=sgd)"
   ]
  },
  {
   "cell_type": "code",
   "execution_count": 130,
   "metadata": {},
   "outputs": [
    {
     "name": "stdout",
     "output_type": "stream",
     "text": [
      "CV mean score: 0.5819, std: 0.1431.\n"
     ]
    }
   ],
   "source": [
    "from sklearn.gaussian_process import GaussianProcessClassifier\n",
    "gpc = GaussianProcessClassifier()\n",
    "oof_gpc, prediction_gpc, scores_gpc = train_model(X_train_scaled, X_test_scaled, y_train, params=None, model_type='sklearn', model=gpc)"
   ]
  },
  {
   "cell_type": "code",
   "execution_count": 131,
   "metadata": {},
   "outputs": [
    {
     "name": "stdout",
     "output_type": "stream",
     "text": [
      "Best score: 0.7552000000000001\n",
      "Best parameters: {'max_depth': 5, 'n_estimators': 1000}\n",
      "CV mean score: 0.5000, std: 0.0000.\n"
     ]
    }
   ],
   "source": [
    "from sklearn.ensemble import ExtraTreesClassifier\n",
    "etc = ExtraTreesClassifier()\n",
    "\n",
    "params = {'n_estimators': [10, 50, 100, 1000],\n",
    "                  'max_depth': [None, 3, 5, 15]\n",
    "                 }\n",
    "\n",
    "CV = GridSearchCV(etc, param_grid=params, cv=n_folds, scoring='roc_auc', n_jobs=-1)\n",
    "CV.fit(X_train_scaled, y_train)\n",
    "print('Best score: {}'.format(CV.best_score_))\n",
    "print('Best parameters: {}'.format(CV.best_params_))\n",
    "etc = ExtraTreesClassifier(**CV.best_params_)\n",
    "oof_etc, prediction_etc, scores_etc = train_model(X_train_scaled, X_test_scaled, y_train, params=None, model_type='sklearn', model=etc)"
   ]
  },
  {
   "cell_type": "code",
   "execution_count": 136,
   "metadata": {},
   "outputs": [
    {
     "name": "stdout",
     "output_type": "stream",
     "text": [
      "Best score: 0.7109500000000001\n",
      "Best parameters: {'learning_rate': 0.01, 'n_estimators': 100}\n"
     ]
    }
   ],
   "source": [
    "from sklearn.ensemble import AdaBoostClassifier\n",
    "abc = AdaBoostClassifier()\n",
    "\n",
    "params = {'n_estimators': [5, 10, 20, 50, 100],\n",
    "                  'learning_rate': [0.001, 0.01, 0.1, 1.0, 10.0]\n",
    "                 }\n",
    "\n",
    "CV = GridSearchCV(abc, param_grid=params, cv=n_folds, scoring='roc_auc')\n",
    "CV.fit(X_train_scaled, y_train)\n",
    "print('Best score: {}'.format(CV.best_score_))\n",
    "print('Best parameters: {}'.format(CV.best_params_))"
   ]
  },
  {
   "cell_type": "code",
   "execution_count": 137,
   "metadata": {},
   "outputs": [
    {
     "name": "stdout",
     "output_type": "stream",
     "text": [
      "CV mean score: 0.5406, std: 0.0755.\n"
     ]
    }
   ],
   "source": [
    "abc = AdaBoostClassifier(**CV.best_params_)\n",
    "oof_abc, prediction_abc, scores_abc = train_model(X_train_scaled, X_test_scaled, y_train, params=None, model_type='sklearn', model=abc)"
   ]
  },
  {
   "cell_type": "code",
   "execution_count": 148,
   "metadata": {
    "scrolled": true
   },
   "outputs": [
    {
     "data": {
      "image/png": "[encoded data removed]",
      "text/plain": [
       "<Figure size 864x576 with 1 Axes>"
      ]
     },
     "metadata": {
      "needs_background": "light"
     },
     "output_type": "display_data"
    }
   ],
   "source": [
    "plt.figure(figsize=(12, 8));\n",
    "scores_df = pd.DataFrame({'LogisticRegression': scores})\n",
    "scores_df['AdaBoostClassifier'] = scores_abc\n",
    "scores_df['ExtraTreesClassifier'] = scores_etc\n",
    "scores_df['GaussianProcessClassifier'] = scores_gpc\n",
    "scores_df['SVC'] = scores_svc\n",
    "scores_df['KNeighborsClassifier'] = scores_knc\n",
    "scores_df['BernoulliNB'] = scores_bnb\n",
    "scores_df['SGDClassifier'] = scores_sgd\n",
    "scores_df['RandomForestClassifier'] = scores_RF\n",
    "sns.boxplot(data=scores_df);\n",
    "plt.xticks(rotation=45);"
   ]
  },
  {
   "cell_type": "code",
   "execution_count": 149,
   "metadata": {},
   "outputs": [],
   "source": [
    "# чтд LR и SVC выделяются. Блендим, смотрим гистограмму распределения oof предсказаний."
   ]
  },
  {
   "cell_type": "code",
   "execution_count": 150,
   "metadata": {},
   "outputs": [
    {
     "name": "stdout",
     "output_type": "stream",
     "text": [
      "CV mean score: 0.7112, std: 0.1198.\n"
     ]
    }
   ],
   "source": [
    "X_train = train.drop(['id', 'target'], axis=1)\n",
    "y_train = train['target']\n",
    "X_test = test.drop(['id'], axis=1)\n",
    "scaler = StandardScaler()\n",
    "X_train = scaler.fit_transform(X_train)\n",
    "X_test = scaler.transform(X_test)\n",
    "\n",
    "model = linear_model.LogisticRegression(class_weight='balanced', penalty='l1', C=0.1, solver='liblinear')\n",
    "oof_lr, prediction_lr, _ = train_model(X_train, X_test, y_train, params=None, model_type='sklearn', model=model)"
   ]
  },
  {
   "cell_type": "code",
   "execution_count": 153,
   "metadata": {},
   "outputs": [
    {
     "data": {
      "text/html": [
       "<div>\n",
       "<style scoped>\n",
       "    .dataframe tbody tr th:only-of-type {\n",
       "        vertical-align: middle;\n",
       "    }\n",
       "\n",
       "    .dataframe tbody tr th {\n",
       "        vertical-align: top;\n",
       "    }\n",
       "\n",
       "    .dataframe thead th {\n",
       "        text-align: right;\n",
       "    }\n",
       "</style>\n",
       "<table border=\"1\" class=\"dataframe\">\n",
       "  <thead>\n",
       "    <tr style=\"text-align: right;\">\n",
       "      <th></th>\n",
       "      <th>id</th>\n",
       "      <th>target</th>\n",
       "    </tr>\n",
       "  </thead>\n",
       "  <tbody>\n",
       "    <tr>\n",
       "      <th>0</th>\n",
       "      <td>250</td>\n",
       "      <td>0.555294</td>\n",
       "    </tr>\n",
       "    <tr>\n",
       "      <th>1</th>\n",
       "      <td>251</td>\n",
       "      <td>0.396965</td>\n",
       "    </tr>\n",
       "    <tr>\n",
       "      <th>2</th>\n",
       "      <td>252</td>\n",
       "      <td>0.572044</td>\n",
       "    </tr>\n",
       "    <tr>\n",
       "      <th>3</th>\n",
       "      <td>253</td>\n",
       "      <td>0.843185</td>\n",
       "    </tr>\n",
       "    <tr>\n",
       "      <th>4</th>\n",
       "      <td>254</td>\n",
       "      <td>0.472588</td>\n",
       "    </tr>\n",
       "  </tbody>\n",
       "</table>\n",
       "</div>"
      ],
      "text/plain": [
       "    id    target\n",
       "0  250  0.555294\n",
       "1  251  0.396965\n",
       "2  252  0.572044\n",
       "3  253  0.843185\n",
       "4  254  0.472588"
      ]
     },
     "execution_count": 153,
     "metadata": {},
     "output_type": "execute_result"
    }
   ],
   "source": [
    "submission = pd.read_csv('sample_submission.csv')\n",
    "submission['target'] = (prediction_lr + prediction_svc) / 2\n",
    "submission.to_csv('submission.csv', index=False)\n",
    "\n",
    "submission.head()"
   ]
  },
  {
   "cell_type": "code",
   "execution_count": 161,
   "metadata": {},
   "outputs": [
    {
     "data": {
      "image/png": "[encoded data removed]",
      "text/plain": [
       "<Figure size 864x576 with 1 Axes>"
      ]
     },
     "metadata": {
      "needs_background": "light"
     },
     "output_type": "display_data"
    }
   ],
   "source": [
    "plt.figure(figsize = (12,8))\n",
    "plt.hist (prediction_lr, label = 'Logistic Regression')\n",
    "plt.hist (prediction_svc, label = 'SVC')\n",
    "plt.hist ((prediction_lr+prediction_svc) / 2, label = 'Blend')\n",
    "plt.title ('Distribution of predictions')\n",
    "plt.legend();"
   ]
  },
  {
   "cell_type": "code",
   "execution_count": 164,
   "metadata": {
    "scrolled": true
   },
   "outputs": [
    {
     "data": {
      "text/html": [
       "<div>\n",
       "<style scoped>\n",
       "    .dataframe tbody tr th:only-of-type {\n",
       "        vertical-align: middle;\n",
       "    }\n",
       "\n",
       "    .dataframe tbody tr th {\n",
       "        vertical-align: top;\n",
       "    }\n",
       "\n",
       "    .dataframe thead th {\n",
       "        text-align: right;\n",
       "    }\n",
       "</style>\n",
       "<table border=\"1\" class=\"dataframe\">\n",
       "  <thead>\n",
       "    <tr style=\"text-align: right;\">\n",
       "      <th></th>\n",
       "      <th>id</th>\n",
       "      <th>target</th>\n",
       "    </tr>\n",
       "  </thead>\n",
       "  <tbody>\n",
       "    <tr>\n",
       "      <th>0</th>\n",
       "      <td>250</td>\n",
       "      <td>0.669671</td>\n",
       "    </tr>\n",
       "    <tr>\n",
       "      <th>1</th>\n",
       "      <td>251</td>\n",
       "      <td>0.487245</td>\n",
       "    </tr>\n",
       "    <tr>\n",
       "      <th>2</th>\n",
       "      <td>252</td>\n",
       "      <td>0.515429</td>\n",
       "    </tr>\n",
       "    <tr>\n",
       "      <th>3</th>\n",
       "      <td>253</td>\n",
       "      <td>0.760070</td>\n",
       "    </tr>\n",
       "    <tr>\n",
       "      <th>4</th>\n",
       "      <td>254</td>\n",
       "      <td>0.445292</td>\n",
       "    </tr>\n",
       "  </tbody>\n",
       "</table>\n",
       "</div>"
      ],
      "text/plain": [
       "    id    target\n",
       "0  250  0.669671\n",
       "1  251  0.487245\n",
       "2  252  0.515429\n",
       "3  253  0.760070\n",
       "4  254  0.445292"
      ]
     },
     "execution_count": 164,
     "metadata": {},
     "output_type": "execute_result"
    }
   ],
   "source": [
    "submission['target'] = prediction_lr\n",
    "submission.to_csv('submission.csv', index=False)\n",
    "\n",
    "submission.head()"
   ]
  },
  {
   "cell_type": "code",
   "execution_count": 173,
   "metadata": {},
   "outputs": [],
   "source": [
    "# просто logreg дает больший скор на LB. Пробуем lgbm, \n",
    "# далее варианты - distance-based признаки, полиномиальные признаки, теоретический анализ (не годится), \n",
    "# отбор признаков"
   ]
  },
  {
   "cell_type": "code",
   "execution_count": null,
   "metadata": {},
   "outputs": [],
   "source": []
  },
  {
   "cell_type": "code",
   "execution_count": 139,
   "metadata": {},
   "outputs": [],
   "source": [
    "def learning_rate_010_decay_power_099(current_iter):\n",
    "    base_learning_rate = 0.1\n",
    "    lr = base_learning_rate  * np.power(.99, current_iter)\n",
    "    return lr if lr > 1e-3 else 1e-3\n",
    "\n",
    "def learning_rate_010_decay_power_0995(current_iter):\n",
    "    base_learning_rate = 0.1\n",
    "    lr = base_learning_rate  * np.power(.995, current_iter)\n",
    "    return lr if lr > 1e-3 else 1e-3\n",
    "\n",
    "def learning_rate_005_decay_power_099(current_iter):\n",
    "    base_learning_rate = 0.05\n",
    "    lr = base_learning_rate  * np.power(.99, current_iter)\n",
    "    return lr if lr > 1e-3 else 1e-3"
   ]
  },
  {
   "cell_type": "code",
   "execution_count": 143,
   "metadata": {},
   "outputs": [],
   "source": [
    "from sklearn.model_selection import train_test_split\n",
    "X_train_sp, X_test_sp, y_train_sp, y_test_sp = train_test_split(X_train_scaled, y_train, test_size=0.20, random_state=42, stratify=y_train)"
   ]
  },
  {
   "cell_type": "code",
   "execution_count": 144,
   "metadata": {},
   "outputs": [],
   "source": [
    "fit_params={\"early_stopping_rounds\":30, \n",
    "            \"eval_metric\" : 'auc', \n",
    "            \"eval_set\" : [(X_test_sp,y_test_sp)],\n",
    "            'eval_names': ['valid'],\n",
    "            #'callbacks': [lgb.reset_parameter(learning_rate=learning_rate_010_decay_power_099)],\n",
    "            'verbose': 100,\n",
    "            'categorical_feature': 'auto'}"
   ]
  },
  {
   "cell_type": "code",
   "execution_count": 134,
   "metadata": {},
   "outputs": [
    {
     "name": "stdout",
     "output_type": "stream",
     "text": [
      "Fitting 20 folds for each of 100 candidates, totalling 2000 fits\n"
     ]
    },
    {
     "name": "stderr",
     "output_type": "stream",
     "text": [
      "[Parallel(n_jobs=1)]: Using backend SequentialBackend with 1 concurrent workers.\n",
      "[Parallel(n_jobs=1)]: Done 2000 out of 2000 | elapsed:  4.5min finished\n"
     ]
    },
    {
     "name": "stdout",
     "output_type": "stream",
     "text": [
      "Best score: 0.7814\n",
      "Best parameters: {'colsample_bytree': 0.523027197103915, 'min_child_samples': 100, 'min_child_weight': 0.01, 'num_leaves': 18, 'reg_alpha': 2, 'reg_lambda': 20, 'subsample': 0.9025765339833538}\n"
     ]
    }
   ],
   "source": [
    "from scipy.stats import randint as sp_randint\n",
    "from scipy.stats import uniform as sp_uniform\n",
    "params = {'num_leaves': sp_randint(6, 50), \n",
    "          'min_child_samples': sp_randint(100, 500), \n",
    "          'min_child_weight': [1e-5, 1e-3, 1e-2, 1e-1, 1, 1e1, 1e2, 1e3, 1e4],\n",
    "          'subsample': sp_uniform(loc=0.2, scale=0.8), \n",
    "          'colsample_bytree': sp_uniform(loc=0.4, scale=0.6),\n",
    "          'reg_alpha': [0, 1e-1, 1, 2, 5, 7, 10, 50, 100],\n",
    "          'reg_lambda': [0, 1e-1, 1, 5, 10, 20, 50, 100]\n",
    "          }\n",
    "\n",
    "n_HP_points_to_test = 100\n",
    "\n",
    "import lightgbm as lgb\n",
    "from sklearn.model_selection import RandomizedSearchCV, GridSearchCV\n",
    "\n",
    "#n_estimators is set to a \"large value\". The actual number of trees build will depend on early stopping and 5000 define only the absolute maximum\n",
    "clf = lgb.LGBMClassifier(max_depth = -1, random_state = 42, silent = True, metric = 'None', n_jobs = -1, n_estimators = 5000)\n",
    "CV = RandomizedSearchCV(\n",
    "    estimator=clf, param_distributions=params, \n",
    "    n_iter=n_HP_points_to_test,\n",
    "    scoring='roc_auc',\n",
    "    cv=n_folds,\n",
    "    refit=True,\n",
    "    random_state=42,\n",
    "    verbose=True)\n",
    "CV.fit(X_train_scaled, y_train)\n",
    "print (\"Best score: {}\".format(CV.best_score_))\n",
    "print (\"Best parameters: {}\".format(CV.best_params_))"
   ]
  },
  {
   "cell_type": "code",
   "execution_count": 166,
   "metadata": {},
   "outputs": [],
   "source": [
    "from sklearn.preprocessing import PolynomialFeatures\n",
    "poly = PolynomialFeatures(2)"
   ]
  },
  {
   "cell_type": "code",
   "execution_count": 167,
   "metadata": {},
   "outputs": [],
   "source": [
    "X_train = train.drop(['id', 'target'], axis=1)\n",
    "X_test = test.drop(['id'], axis=1)\n",
    "\n",
    "X_train_poly = poly.fit_transform(X_train)\n",
    "X_test_poly = poly.transform(X_test)"
   ]
  },
  {
   "cell_type": "code",
   "execution_count": 170,
   "metadata": {},
   "outputs": [
    {
     "data": {
      "text/plain": [
       "(250, 45451)"
      ]
     },
     "execution_count": 170,
     "metadata": {},
     "output_type": "execute_result"
    }
   ],
   "source": [
    "X_train_poly.shape"
   ]
  },
  {
   "cell_type": "code",
   "execution_count": 172,
   "metadata": {},
   "outputs": [],
   "source": [
    "# The number of polynomial features is ~45k which is too much. \n",
    "# We need some way to select some of them. Let's try use correlations with target."
   ]
  },
  {
   "cell_type": "code",
   "execution_count": 174,
   "metadata": {},
   "outputs": [],
   "source": [
    "cor = pd.DataFrame(X_train_poly).corrwith(y_train)"
   ]
  },
  {
   "cell_type": "code",
   "execution_count": 175,
   "metadata": {},
   "outputs": [
    {
     "name": "stdout",
     "output_type": "stream",
     "text": [
      "CV mean score: 0.8087, std: 0.1248.\n",
      "CV mean score: 0.8231, std: 0.1030.\n",
      "CV mean score: 0.8488, std: 0.0963.\n",
      "CV mean score: 0.8250, std: 0.0744.\n",
      "CV mean score: 0.8375, std: 0.0887.\n",
      "CV mean score: 0.8294, std: 0.1057.\n",
      "CV mean score: 0.8406, std: 0.0961.\n",
      "CV mean score: 0.8500, std: 0.1188.\n",
      "CV mean score: 0.8394, std: 0.1063.\n",
      "CV mean score: 0.8231, std: 0.1115.\n",
      "CV mean score: 0.8363, std: 0.0919.\n",
      "CV mean score: 0.8438, std: 0.0977.\n",
      "CV mean score: 0.8281, std: 0.1247.\n",
      "CV mean score: 0.8250, std: 0.1274.\n",
      "CV mean score: 0.8356, std: 0.1354.\n",
      "CV mean score: 0.8456, std: 0.1149.\n",
      "CV mean score: 0.8425, std: 0.1089.\n",
      "CV mean score: 0.8488, std: 0.1049.\n",
      "CV mean score: 0.8381, std: 0.0953.\n",
      "CV mean score: 0.8113, std: 0.0929.\n",
      "CV mean score: 0.8306, std: 0.0796.\n",
      "CV mean score: 0.8306, std: 0.0771.\n",
      "CV mean score: 0.8387, std: 0.0818.\n",
      "CV mean score: 0.8262, std: 0.0810.\n",
      "CV mean score: 0.8025, std: 0.0788.\n",
      "CV mean score: 0.8012, std: 0.0874.\n",
      "CV mean score: 0.8044, std: 0.0853.\n",
      "CV mean score: 0.7975, std: 0.0852.\n",
      "CV mean score: 0.7925, std: 0.0834.\n",
      "CV mean score: 0.7863, std: 0.0949.\n",
      "CV mean score: 0.7831, std: 0.0945.\n",
      "CV mean score: 0.7737, std: 0.0983.\n",
      "CV mean score: 0.7850, std: 0.0884.\n",
      "CV mean score: 0.7819, std: 0.0882.\n",
      "CV mean score: 0.7769, std: 0.0890.\n",
      "CV mean score: 0.7694, std: 0.1096.\n",
      "CV mean score: 0.7431, std: 0.1170.\n",
      "CV mean score: 0.7400, std: 0.1228.\n",
      "CV mean score: 0.7469, std: 0.1145.\n",
      "CV mean score: 0.7419, std: 0.1132.\n",
      "CV mean score: 0.7213, std: 0.1138.\n",
      "CV mean score: 0.7275, std: 0.1017.\n",
      "CV mean score: 0.7213, std: 0.0989.\n",
      "CV mean score: 0.7213, std: 0.0989.\n",
      "CV mean score: 0.7213, std: 0.0989.\n",
      "CV mean score: 0.7213, std: 0.0989.\n",
      "CV mean score: 0.7213, std: 0.0989.\n",
      "CV mean score: 0.7213, std: 0.0989.\n",
      "CV mean score: 0.7306, std: 0.1184.\n",
      "CV mean score: 0.7150, std: 0.1296.\n",
      "CV mean score: 0.7131, std: 0.1308.\n",
      "CV mean score: 0.7069, std: 0.1362.\n",
      "CV mean score: 0.7006, std: 0.1453.\n",
      "CV mean score: 0.7006, std: 0.1453.\n",
      "CV mean score: 0.7006, std: 0.1453.\n",
      "CV mean score: 0.7006, std: 0.1453.\n",
      "CV mean score: 0.6944, std: 0.1510.\n",
      "CV mean score: 0.6850, std: 0.1438.\n",
      "CV mean score: 0.6900, std: 0.1438.\n",
      "CV mean score: 0.6975, std: 0.1435.\n",
      "CV mean score: 0.6944, std: 0.1483.\n",
      "CV mean score: 0.6944, std: 0.1483.\n",
      "CV mean score: 0.6975, std: 0.1345.\n",
      "CV mean score: 0.7169, std: 0.1361.\n",
      "CV mean score: 0.7087, std: 0.1361.\n",
      "CV mean score: 0.7056, std: 0.1401.\n",
      "CV mean score: 0.6975, std: 0.1322.\n",
      "CV mean score: 0.6975, std: 0.1322.\n",
      "CV mean score: 0.6894, std: 0.1461.\n",
      "CV mean score: 0.6925, std: 0.1413.\n",
      "CV mean score: 0.6687, std: 0.1429.\n",
      "CV mean score: 0.6669, std: 0.1364.\n",
      "CV mean score: 0.6669, std: 0.1364.\n",
      "CV mean score: 0.6719, std: 0.1385.\n",
      "CV mean score: 0.6687, std: 0.1368.\n",
      "CV mean score: 0.6763, std: 0.1464.\n",
      "CV mean score: 0.6744, std: 0.1450.\n",
      "CV mean score: 0.6831, std: 0.1420.\n",
      "CV mean score: 0.6813, std: 0.1324.\n",
      "CV mean score: 0.6763, std: 0.1367.\n",
      "CV mean score: 0.6763, std: 0.1367.\n",
      "CV mean score: 0.6769, std: 0.1431.\n",
      "CV mean score: 0.6769, std: 0.1431.\n",
      "CV mean score: 0.6769, std: 0.1431.\n",
      "CV mean score: 0.6769, std: 0.1431.\n",
      "CV mean score: 0.6738, std: 0.1379.\n",
      "CV mean score: 0.6687, std: 0.1410.\n",
      "CV mean score: 0.6687, std: 0.1410.\n",
      "CV mean score: 0.6638, std: 0.1424.\n",
      "CV mean score: 0.6481, std: 0.1424.\n",
      "CV mean score: 0.6481, std: 0.1424.\n",
      "CV mean score: 0.6481, std: 0.1424.\n",
      "CV mean score: 0.6512, std: 0.1397.\n",
      "CV mean score: 0.6512, std: 0.1397.\n",
      "CV mean score: 0.6512, std: 0.1397.\n",
      "CV mean score: 0.6450, std: 0.1435.\n",
      "CV mean score: 0.6450, std: 0.1435.\n",
      "CV mean score: 0.6606, std: 0.1443.\n",
      "CV mean score: 0.6606, std: 0.1443.\n",
      "CV mean score: 0.6669, std: 0.1483.\n"
     ]
    }
   ],
   "source": [
    "sc = []\n",
    "for i in range(10, 510, 5):\n",
    "    top_corr_cols = list(cor.abs().sort_values().tail(i).reset_index()['index'].values)\n",
    "    X_train_poly1 = X_train_poly[:, top_corr_cols]\n",
    "    X_test_poly1 = X_test_poly[:, top_corr_cols]\n",
    "    oof_lr_poly, prediction_lr_poly, scores = train_model(X_train_poly1, X_test_poly1, y_train, params=None, model_type='sklearn', model=model)\n",
    "    sc.append(scores)"
   ]
  },
  {
   "cell_type": "code",
   "execution_count": 176,
   "metadata": {},
   "outputs": [
    {
     "data": {
      "application/vnd.plotly.v1+json": {
       "config": {
        "linkText": "Export to plot.ly",
        "plotlyServerURL": "https://plot.ly",
        "responsive": true,
        "showLink": false
       },
       "data": [
        {
         "name": "CV scores",
         "type": "scatter",
         "uid": "8ca53a2f-341c-4143-99f3-9294fe1a3499",
         "x": [
          10,
          15,
          20,
          25,
          30,
          35,
          40,
          45,
          50,
          55,
          60,
          65,
          70,
          75,
          80,
          85,
          90,
          95,
          100,
          105,
          110,
          115,
          120,
          125,
          130,
          135,
          140,
          145,
          150,
          155,
          160,
          165,
          170,
          175,
          180,
          185,
          190,
          195,
          200,
          205,
          210,
          215,
          220,
          225,
          230,
          235,
          240,
          245,
          250,
          255,
          260,
          265,
          270,
          275,
          280,
          285,
          290,
          295,
          300,
          305,
          310,
          315,
          320,
          325,
          330,
          335,
          340,
          345,
          350,
          355,
          360,
          365,
          370,
          375,
          380,
          385,
          390,
          395,
          400,
          405,
          410,
          415,
          420,
          425,
          430,
          435,
          440,
          445,
          450,
          455,
          460,
          465,
          470,
          475,
          480,
          485,
          490,
          495,
          500,
          505
         ],
         "y": [
          0.8087,
          0.8231,
          0.8488,
          0.825,
          0.8375,
          0.8294,
          0.8406,
          0.85,
          0.8394,
          0.8231,
          0.8362,
          0.8438,
          0.8281,
          0.825,
          0.8356,
          0.8456,
          0.8425,
          0.8488,
          0.8381,
          0.8112,
          0.8306,
          0.8306,
          0.8387,
          0.8262,
          0.8025,
          0.8012,
          0.8044,
          0.7975,
          0.7925,
          0.7862,
          0.7831,
          0.7737,
          0.785,
          0.7819,
          0.7769,
          0.7694,
          0.7431,
          0.74,
          0.7469,
          0.7419,
          0.7213,
          0.7275,
          0.7213,
          0.7213,
          0.7213,
          0.7213,
          0.7213,
          0.7213,
          0.7306,
          0.715,
          0.7131,
          0.7069,
          0.7006,
          0.7006,
          0.7006,
          0.7006,
          0.6944,
          0.685,
          0.69,
          0.6975,
          0.6944,
          0.6944,
          0.6975,
          0.7169,
          0.7088,
          0.7056,
          0.6975,
          0.6975,
          0.6894,
          0.6925,
          0.6688,
          0.6669,
          0.6669,
          0.6719,
          0.6688,
          0.6762,
          0.6744,
          0.6831,
          0.6812,
          0.6762,
          0.6762,
          0.6769,
          0.6769,
          0.6769,
          0.6769,
          0.6738,
          0.6688,
          0.6688,
          0.6638,
          0.6481,
          0.6481,
          0.6481,
          0.6512,
          0.6512,
          0.6512,
          0.645,
          0.645,
          0.6606,
          0.6606,
          0.6669
         ]
        }
       ],
       "layout": {
        "title": {
         "text": "Top N poly features vs CV"
        },
        "xaxis": {
         "title": {
          "text": "Top N features"
         }
        },
        "yaxis": {
         "title": {
          "text": "CV score"
         }
        }
       }
      },
      "text/html": [
       "<div>\n",
       "        \n",
       "        \n",
       "            <div id=\"efc54dd4-3b20-41c1-8e84-af6dcaaf4aeb\" class=\"plotly-graph-div\" style=\"height:525px; width:100%;\"></div>\n",
       "            <script type=\"text/javascript\">\n",
       "                require([\"plotly\"], function(Plotly) {\n",
       "                    window.PLOTLYENV=window.PLOTLYENV || {};\n",
       "                    window.PLOTLYENV.BASE_URL='https://plot.ly';\n",
       "                    \n",
       "                if (document.getElementById(\"efc54dd4-3b20-41c1-8e84-af6dcaaf4aeb\")) {\n",
       "                    Plotly.newPlot(\n",
       "                        'efc54dd4-3b20-41c1-8e84-af6dcaaf4aeb',\n",
       "                        [{\"name\": \"CV scores\", \"type\": \"scatter\", \"uid\": \"147f33a0-9e44-4a61-8528-580e2f99ce2d\", \"x\": [10, 15, 20, 25, 30, 35, 40, 45, 50, 55, 60, 65, 70, 75, 80, 85, 90, 95, 100, 105, 110, 115, 120, 125, 130, 135, 140, 145, 150, 155, 160, 165, 170, 175, 180, 185, 190, 195, 200, 205, 210, 215, 220, 225, 230, 235, 240, 245, 250, 255, 260, 265, 270, 275, 280, 285, 290, 295, 300, 305, 310, 315, 320, 325, 330, 335, 340, 345, 350, 355, 360, 365, 370, 375, 380, 385, 390, 395, 400, 405, 410, 415, 420, 425, 430, 435, 440, 445, 450, 455, 460, 465, 470, 475, 480, 485, 490, 495, 500, 505], \"y\": [0.8087, 0.8231, 0.8488, 0.825, 0.8375, 0.8294, 0.8406, 0.85, 0.8394, 0.8231, 0.8362, 0.8438, 0.8281, 0.825, 0.8356, 0.8456, 0.8425, 0.8488, 0.8381, 0.8112, 0.8306, 0.8306, 0.8387, 0.8262, 0.8025, 0.8012, 0.8044, 0.7975, 0.7925, 0.7862, 0.7831, 0.7737, 0.785, 0.7819, 0.7769, 0.7694, 0.7431, 0.74, 0.7469, 0.7419, 0.7213, 0.7275, 0.7213, 0.7213, 0.7213, 0.7213, 0.7213, 0.7213, 0.7306, 0.715, 0.7131, 0.7069, 0.7006, 0.7006, 0.7006, 0.7006, 0.6944, 0.685, 0.69, 0.6975, 0.6944, 0.6944, 0.6975, 0.7169, 0.7088, 0.7056, 0.6975, 0.6975, 0.6894, 0.6925, 0.6688, 0.6669, 0.6669, 0.6719, 0.6688, 0.6762, 0.6744, 0.6831, 0.6812, 0.6762, 0.6762, 0.6769, 0.6769, 0.6769, 0.6769, 0.6738, 0.6688, 0.6688, 0.6638, 0.6481, 0.6481, 0.6481, 0.6512, 0.6512, 0.6512, 0.645, 0.645, 0.6606, 0.6606, 0.6669]}],\n",
       "                        {\"title\": {\"text\": \"Top N poly features vs CV\"}, \"xaxis\": {\"title\": {\"text\": \"Top N features\"}}, \"yaxis\": {\"title\": {\"text\": \"CV score\"}}},\n",
       "                        {\"showLink\": false, \"linkText\": \"Export to plot.ly\", \"plotlyServerURL\": \"https://plot.ly\", \"responsive\": true}\n",
       "                    ).then(function(){\n",
       "                            \n",
       "var gd = document.getElementById('efc54dd4-3b20-41c1-8e84-af6dcaaf4aeb');\n",
       "var x = new MutationObserver(function (mutations, observer) {{\n",
       "        var display = window.getComputedStyle(gd).display;\n",
       "        if (!display || display === 'none') {{\n",
       "            console.log([gd, 'removed!']);\n",
       "            Plotly.purge(gd);\n",
       "            observer.disconnect();\n",
       "        }}\n",
       "}});\n",
       "\n",
       "// Listen for the removal of the full notebook cells\n",
       "var notebookContainer = gd.closest('#notebook-container');\n",
       "if (notebookContainer) {{\n",
       "    x.observe(notebookContainer, {childList: true});\n",
       "}}\n",
       "\n",
       "// Listen for the clearing of the current output cell\n",
       "var outputEl = gd.closest('.output');\n",
       "if (outputEl) {{\n",
       "    x.observe(outputEl, {childList: true});\n",
       "}}\n",
       "\n",
       "                        })\n",
       "                };\n",
       "                });\n",
       "            </script>\n",
       "        </div>"
      ]
     },
     "metadata": {},
     "output_type": "display_data"
    }
   ],
   "source": [
    "data = [go.Scatter(\n",
    "        x = list(range(10, 510, 5)),\n",
    "        y = [np.round(np.mean(i), 4) for i in sc],\n",
    "        name = 'CV scores'\n",
    "    )]\n",
    "layout = go.Layout(dict(title = \"Top N poly features vs CV\",\n",
    "                  xaxis = dict(title = 'Top N features'),\n",
    "                  yaxis = dict(title = 'CV score'),\n",
    "                  ))\n",
    "py.iplot(dict(data=data, layout=layout), filename='basic-line')"
   ]
  },
  {
   "cell_type": "code",
   "execution_count": null,
   "metadata": {},
   "outputs": [],
   "source": [
    "# видно было и без графика, что мы overfit"
   ]
  },
  {
   "cell_type": "code",
   "execution_count": 196,
   "metadata": {},
   "outputs": [
    {
     "name": "stdout",
     "output_type": "stream",
     "text": [
      "CV mean score: 0.7134, std: 0.1215.\n"
     ]
    }
   ],
   "source": [
    "train_test(train, test)\n",
    "X_train['300'] = X_train.std(1)\n",
    "X_test['300'] = X_test.std(1)\n",
    "scaler = StandardScaler()\n",
    "\n",
    "X_train[X_train.columns[:-1]] = scaler.fit_transform(X_train[X_train.columns[:-1]])\n",
    "X_test[X_test.columns[:-1]] = scaler.transform(X_test[X_test.columns[:-1]])\n",
    "model = linear_model.LogisticRegression(class_weight = 'balanced',\n",
    "                                        penalty = 'l1',\n",
    "                                        C = 0.1,\n",
    "                                        solver = 'liblinear'\n",
    "                                        )\n",
    "oof_lr_1, prediction_lr_1_repeated, scores = train_model(X_train.values, X_test.values, y_train, params = None, model_type = \"sklearn\", model = model, folds = repeated_fold)"
   ]
  },
  {
   "cell_type": "code",
   "execution_count": 184,
   "metadata": {},
   "outputs": [
    {
     "data": {
      "text/html": [
       "<div>\n",
       "<style scoped>\n",
       "    .dataframe tbody tr th:only-of-type {\n",
       "        vertical-align: middle;\n",
       "    }\n",
       "\n",
       "    .dataframe tbody tr th {\n",
       "        vertical-align: top;\n",
       "    }\n",
       "\n",
       "    .dataframe thead th {\n",
       "        text-align: right;\n",
       "    }\n",
       "</style>\n",
       "<table border=\"1\" class=\"dataframe\">\n",
       "  <thead>\n",
       "    <tr style=\"text-align: right;\">\n",
       "      <th></th>\n",
       "      <th>id</th>\n",
       "      <th>target</th>\n",
       "    </tr>\n",
       "  </thead>\n",
       "  <tbody>\n",
       "    <tr>\n",
       "      <th>0</th>\n",
       "      <td>250</td>\n",
       "      <td>13.431643</td>\n",
       "    </tr>\n",
       "    <tr>\n",
       "      <th>1</th>\n",
       "      <td>251</td>\n",
       "      <td>9.751118</td>\n",
       "    </tr>\n",
       "    <tr>\n",
       "      <th>2</th>\n",
       "      <td>252</td>\n",
       "      <td>10.359592</td>\n",
       "    </tr>\n",
       "    <tr>\n",
       "      <th>3</th>\n",
       "      <td>253</td>\n",
       "      <td>15.158499</td>\n",
       "    </tr>\n",
       "    <tr>\n",
       "      <th>4</th>\n",
       "      <td>254</td>\n",
       "      <td>8.883522</td>\n",
       "    </tr>\n",
       "  </tbody>\n",
       "</table>\n",
       "</div>"
      ],
      "text/plain": [
       "    id     target\n",
       "0  250  13.431643\n",
       "1  251   9.751118\n",
       "2  252  10.359592\n",
       "3  253  15.158499\n",
       "4  254   8.883522"
      ]
     },
     "execution_count": 184,
     "metadata": {},
     "output_type": "execute_result"
    }
   ],
   "source": [
    "submission = pd.read_csv('sample_submission.csv')\n",
    "submission['target'] = prediction_lr_1_repeated\n",
    "submission.to_csv('repeated_fold_stats.csv', index = False)\n",
    "\n",
    "submission.head()"
   ]
  },
  {
   "cell_type": "code",
   "execution_count": 197,
   "metadata": {},
   "outputs": [],
   "source": [
    "#distance features"
   ]
  },
  {
   "cell_type": "code",
   "execution_count": 208,
   "metadata": {},
   "outputs": [],
   "source": [
    "X_train = train.drop(['id', 'target'], axis=1)\n",
    "X_test = test.drop(['id'], axis=1)\n",
    "\n",
    "NN = NearestNeighbors(n_neighbors = 5, n_jobs = -1)\n",
    "NN.fit(X_train)\n",
    "\n",
    "dists, _ = NN.kneighbors(X_train, n_neighbors = 5)\n",
    "mean_distance = dists.mean(axis =1)\n",
    "max_distance = dists.max(axis = 1)\n",
    "min_distance = dists.min(axis = 1)\n",
    "\n",
    "X_train['300'] = X_train.std(1)\n",
    "\n",
    "X_train = np.hstack((X_train, mean_distance.reshape(-1, 1), max_distance.reshape(-1, 1), min_distance.reshape(-1, 1)))\n",
    "\n",
    "test_dists, _ = NN.kneighbors(X_test, n_neighbors = 5)\n",
    "\n",
    "test_mean_distance = test_dists.mean(axis =1)\n",
    "test_max_distance = test_dists.max(axis = 1)\n",
    "test_min_distance = test_dists.min(axis = 1)\n",
    "\n",
    "X_test['300'] = X_test.std(1)\n",
    "X_test = np.hstack((X_test, test_mean_distance.reshape(-1, 1), test_max_distance.reshape(-1, 1), test_min_distance.reshape(-1, 1)))"
   ]
  },
  {
   "cell_type": "code",
   "execution_count": 209,
   "metadata": {},
   "outputs": [],
   "source": [
    "# train+test?"
   ]
  },
  {
   "cell_type": "code",
   "execution_count": 210,
   "metadata": {},
   "outputs": [
    {
     "name": "stdout",
     "output_type": "stream",
     "text": [
      "CV mean score: 0.7431, std: 0.1204.\n"
     ]
    }
   ],
   "source": [
    "model = linear_model.LogisticRegression(class_weight = 'balanced',\n",
    "                                        C = 0.1,\n",
    "                                        penalty = 'l1',\n",
    "                                        solver = 'liblinear'\n",
    "                                        )\n",
    "oof_lr_2, prediction_lr_2, scores = train_model(X_train, X_test, y_train, params = None, model_type = 'sklearn', model = model)"
   ]
  },
  {
   "cell_type": "code",
   "execution_count": null,
   "metadata": {},
   "outputs": [],
   "source": [
    "submission['target']"
   ]
  }
 ],
 "metadata": {
  "kernelspec": {
   "display_name": "Python 3",
   "language": "python",
   "name": "python3"
  },
  "language_info": {
   "codemirror_mode": {
    "name": "ipython",
    "version": 3
   },
   "file_extension": ".py",
   "mimetype": "text/x-python",
   "name": "python",
   "nbconvert_exporter": "python",
   "pygments_lexer": "ipython3",
   "version": "3.7.1"
  }
 },
 "nbformat": 4,
 "nbformat_minor": 2
}
