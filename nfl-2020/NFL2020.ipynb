{
 "cells": [
  {
   "cell_type": "code",
   "execution_count": 1,
   "metadata": {},
   "outputs": [],
   "source": [
    "import os\n",
    "import gc\n",
    "import time\n",
    "import codecs\n",
    "from datetime import date, datetime\n",
    "\n",
    "random_seed = 42\n",
    "\n",
    "import numpy as np\n",
    "import pandas as pd\n",
    "from sklearn.preprocessing import StandardScaler, MinMaxScaler\n",
    "import lightgbm as lgb\n",
    "import xgboost as xgb\n",
    "\n",
    "%matplotlib inline\n",
    "import plotly.graph_objects as go\n",
    "import plotly.express as px\n",
    "import seaborn as sns\n",
    "import matplotlib as mpl\n",
    "import matplotlib.pyplot as plt\n",
    "plt.style.use('ggplot')\n",
    "mpl.rc('lines', linewidth=4, color='g')\n",
    "\n",
    "import warnings\n",
    "warnings.filterwarnings('ignore')"
   ]
  },
  {
   "cell_type": "code",
   "execution_count": 2,
   "metadata": {},
   "outputs": [
    {
     "name": "stderr",
     "output_type": "stream",
     "text": [
      "Using TensorFlow backend.\n"
     ]
    }
   ],
   "source": [
    "import keras\n",
    "import tensorflow as tf\n",
    "from keras import optimizers\n",
    "from keras import backend as K\n",
    "from keras import regularizers\n",
    "from keras.models import Sequential\n",
    "from keras.layers import (Dense, Activation, Dropout, Flatten, Bidirectional,\n",
    "                          CuDNNGRU, Embedding, Conv1D, CuDNNLSTM,                           \n",
    "                          MaxPooling1D, GlobalMaxPooling1D, LSTM) \n",
    "from keras.utils import plot_model, np_utils\n",
    "from keras.wrappers.scikit_learn import KerasRegressor\n",
    "from keras.preprocessing import sequence\n",
    "from keras.callbacks import EarlyStopping\n"
   ]
  },
  {
   "cell_type": "code",
   "execution_count": 14,
   "metadata": {},
   "outputs": [],
   "source": [
    "from git import Repo\n",
    "\n",
    "PATH_OF_GIT_REPO = '/home/hq/Kaggle/.git'\n",
    "\n",
    "def git_push(COMMIT_MESSAGE):\n",
    "    try:\n",
    "        repo = Repo(PATH_OF_GIT_REPO)\n",
    "        repo.git.add(update=True)\n",
    "        repo.index.commit(COMMIT_MESSAGE)\n",
    "        origin = repo.remote(name='Kagglez')\n",
    "        origin.push()\n",
    "    except:\n",
    "        print('Some error occured while pushing the code')"
   ]
  },
  {
   "cell_type": "code",
   "execution_count": 13,
   "metadata": {},
   "outputs": [
    {
     "name": "stdout",
     "output_type": "stream",
     "text": [
      "../Input/nfl-2020/train.csv\n",
      "../Input/nfl-2020/kaggle/competitions/nflrush/sample_submission.csv.encrypted\n",
      "../Input/nfl-2020/kaggle/competitions/nflrush/competition.cpython-36m-x86_64-linux-gnu.so\n",
      "../Input/nfl-2020/kaggle/competitions/nflrush/__init__.py\n",
      "../Input/nfl-2020/kaggle/competitions/nflrush/test.csv.encrypted\n"
     ]
    }
   ],
   "source": [
    "for dirname, _, filenames in os.walk('../Input/nfl-2020'):\n",
    "    for filename in filenames:\n",
    "        print(os.path.join(dirname, filename))"
   ]
  },
  {
   "cell_type": "code",
   "execution_count": 15,
   "metadata": {},
   "outputs": [
    {
     "name": "stdout",
     "output_type": "stream",
     "text": [
      "Some error occured while pushing the code\n"
     ]
    }
   ],
   "source": [
    "git_push('easy_commits')"
   ]
  },
  {
   "cell_type": "code",
   "execution_count": null,
   "metadata": {},
   "outputs": [],
   "source": []
  }
 ],
 "metadata": {
  "kernelspec": {
   "display_name": "Python 3",
   "language": "python",
   "name": "python3"
  },
  "language_info": {
   "codemirror_mode": {
    "name": "ipython",
    "version": 3
   },
   "file_extension": ".py",
   "mimetype": "text/x-python",
   "name": "python",
   "nbconvert_exporter": "python",
   "pygments_lexer": "ipython3",
   "version": "3.7.3"
  },
  "widgets": {
   "application/vnd.jupyter.widget-state+json": {
    "state": {},
    "version_major": 2,
    "version_minor": 0
   }
  }
 },
 "nbformat": 4,
 "nbformat_minor": 2
}
